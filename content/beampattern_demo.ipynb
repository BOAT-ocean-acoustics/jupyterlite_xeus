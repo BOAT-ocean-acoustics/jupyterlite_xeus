{
 "cells": [
  {
   "cell_type": "markdown",
   "metadata": {},
   "source": [
    "# Beampattern Notebook\n",
    "\n",
    "Concepts to communicate:\n",
    "\n",
    "1. Beampattern\n",
    "2. Main Lobe\n",
    "3. Sidelobes\n",
    "4. Beam width\n",
    "5. Source Level\n",
    "6. Near-field vs far-field\n",
    "\n",
    "A **transducer** is a device that takes an electrical signal and transforms it into mechanical motion. The audio speakers in calculaters, phones, or headphones are probably the transducers we interact with and use on a daily basis. These transducers use an electrical signal to cause the speaker surface to oscillate which then generates sound. The acoustic source in a sonar system does the same thing. A transducer can also take mechanical motion and transform it into an electrical signal (microphones in air and hydrophones in the water), but this section will focus only on the properties of acoustic transducers that are used to generate sound.\n",
    "\n",
    "## Circular transducer\n",
    "\n",
    "The most common man-made sound sources used in underwater acoustics are planer transducers which have flat surfaces which oscillate to produce sound. This is in part due to the fact that a flat transducer is relatively easy to manufacturer, but more importantly, the transducer transmits a majority of the sound in the direction perpendicular to the vibrating plane.  This is a useful property in many sonar systems and this directivity of the transmitted sound can help determine the location of an object (fish, bubble, submarine, etc.)\n",
    "\n",
    "Note that we said the transducer directs a \"majority\" of the sound in one direction and not \"all\" of the sound. In fact, the transducer sends different levels of sound in many directions and the directional dependence of the sound is refered to as the transducer's **beam pattern**. To help understand the concept of a beam pattern and it's properties, we will focus initially on one particular, common type of tranducer: the circular piston. This type of transducer is often a cylindrical piece of piezoelectric material to which an electrical signal is applied such that it expands and contracts along the axis of the cylinder. The causes sound to radiate from the circular face of the transducer. The structure of the sound field from this type of transducer can be fairly complicated and there is not a simple, mathematical expression for the direction and strength of the transmitted sound. There are, however, approximate mathematical descriptions that can be accurately describe the transmitted sound under certain conditions. One of the most useful of these is to assume that the transducer an be approximated as a baffled circular piston. By \"baffled,\" we mean that the face of the transducer is surrounded by an infinite, rigid surface. This simplifies the mathematics and allows us to calculate strength and direction of the transmitted field.\n",
    "\n",
    "In the following, the face of the transducer will be in the x-y plane and the z-axis is perpendicular to the face. The radius of the tranducer is ***a*** and the field will be described in two ways; either a function of the distance, ***r***, from the center of the face and the angle, ***$\\theta$***, between the direction of ***r*** and the -axis or as a function of distance from the plane of the transducer (range) and the perpendicular direction (cross-range.)\n",
    "\n",
    "![Piston](quick_piston.png)\n",
    "\n",
    "If the sound is measured far away from the face of the transducer, the intensity of the sound will be proportional to $1/r^2$ and the angular-dependence of the field can be expressed in a simple form that does not depend on the distance. When the reciever is sufficiently far away that these two properties are true, then the receiver is said to be in the **far-field** of the transducer. In the widget below, we've removed the $1/r^2$ dependence and normalized the intensity by the value measured on the z-axis or $\\theta = 0^\\circ$. As a result, the normalized intensity is 0 dB (or 1 on a linear scale.) The widget allows you to make the transducer larger or smaller by increasing it's radius and allows you to change the frequency of the sound being transmitted. You can also display the angular dependence of the transmitted sound on different plots and on both a linear and decibel scale.\n"
   ]
  },
  {
   "cell_type": "code",
   "execution_count": 2,
   "metadata": {},
   "outputs": [],
   "source": [
    "import numpy as np\n",
    "import matplotlib.pyplot as plt\n",
    "from scipy.special import j1  # Bessel function of the first kind\n",
    "import ipywidgets as widgets\n",
    "from ipywidgets import interact\n",
    "import pandas as pd"
   ]
  },
  {
   "cell_type": "code",
   "execution_count": 3,
   "metadata": {},
   "outputs": [],
   "source": [
    "# Constants\n",
    "rho0 = 1\n",
    "c = 1500\n",
    "r = 10\n",
    "\n",
    "# Create sliders for 'f' and 'a'\n",
    "f_slider = widgets.IntSlider(min=1, max=50, step=1, value=1, description='Frequency (kHz)')\n",
    "a_slider = widgets.FloatSlider(min=0.1, max=1, step=0.05, value=0.5, description='Aperture Radius (m)')\n",
    "\n",
    "def far_field_intensity_cartesian_polar_calculation(f, a):\n",
    "    # Calculate angular frequency\n",
    "    omega = 2 * np.pi * f * 1000\n",
    "\n",
    "    # Calculate wavenumber\n",
    "    k = omega / c\n",
    "\n",
    "    # Projection Intensity calculation\n",
    "    theta = np.arange(-90, 90.1, 0.1)\n",
    "    u = k * a * np.sin(theta * np.pi / 180)\n",
    "    projInt = np.abs((rho0 * c * k * a * a / (2 * r)) * \n",
    "                     (2 * j1(u) / u)) ** 2\n",
    "\n",
    "    # Handle division by zero at theta = 0\n",
    "    ind = np.where(theta == 0)[0]\n",
    "    axisInt = np.abs(rho0 * c * k * a * a / (2 * r)) ** 2\n",
    "    projInt[ind] = axisInt\n",
    "\n",
    "    return theta, projInt, axisInt\n",
    "\n",
    "def update_far_field_intensity_cartesian_polar_plot(f, a, plotType, plotScale):\n",
    "    # Calculate far field intensity\n",
    "    theta, projInt, axisInt = far_field_intensity_cartesian_polar_calculation(f, a)\n",
    "\n",
    "    # Close any existing plots\n",
    "    plt.close('all') \n",
    "\n",
    "    # Plot in Cartesian\n",
    "    if plotType == 'Cartesian':\n",
    "        if plotScale == \"Decibels\":\n",
    "            plt.plot(theta, 10 * np.log10(projInt / axisInt), linewidth=2)\n",
    "            plt.ylim([-40, 0])\n",
    "            plt.xlim([-90, 90])\n",
    "            plt.xlabel('Angle (degrees)', fontsize=14)\n",
    "            plt.ylabel('Beam Level (dB)', fontsize=14)\n",
    "            plt.grid(True)\n",
    "        else:\n",
    "            plt.plot(theta, projInt / axisInt, linewidth=2)\n",
    "            plt.ylim(10 ** (np.array([-40, 0]) / 10))\n",
    "            plt.xlim([-90, 90])\n",
    "            plt.xlabel('Angle (degrees)', fontsize=14)\n",
    "            plt.ylabel('Beam Level', fontsize=14)\n",
    "            plt.grid(True)\n",
    "\n",
    "    # Plot in Polar\n",
    "    elif plotType == 'Polar':\n",
    "        if plotScale == \"Decibels\":\n",
    "            plt.polar(theta * np.pi / 180, 10 * np.log10(projInt / axisInt), linewidth=2)\n",
    "            ax = plt.gca()\n",
    "            ax.set_ylim([-40, 0])\n",
    "            ax.set_theta_zero_location('N')  # 'top'\n",
    "            ax.set_thetalim([np.radians(-90), np.radians(90)])\n",
    "            ax.set_title('Beam Pattern (dB)', fontsize=14)\n",
    "        else:\n",
    "            plt.polar(theta * np.pi / 180, projInt / axisInt, linewidth=2)\n",
    "            ax = plt.gca()\n",
    "            ax.set_ylim(10 ** (np.array([-40, 0]) / 10))\n",
    "            ax.set_theta_zero_location('N')  # 'top'\n",
    "            ax.set_thetalim([np.radians(-90), np.radians(90)])\n",
    "            ax.set_title('Beam Pattern (Linear Scale)', fontsize=14)\n",
    "\n",
    "    plt.show()\n",
    "    \n",
    "    # Calculate beam widths\n",
    "    ind3dB = np.where(10 * np.log10(projInt / axisInt) >= -3)[0]\n",
    "    ind6dB = np.where(10 * np.log10(projInt / axisInt) >= -6)[0]\n",
    "    ind10dB = np.where(10 * np.log10(projInt / axisInt) >= -10)[0]\n",
    "    bw3dB = np.abs(theta[ind3dB[0]])\n",
    "    bw6dB = np.abs(theta[ind6dB[0]])\n",
    "    bw10dB = np.abs(theta[ind10dB[0]])\n",
    "\n",
    "    # Define labels and values\n",
    "    bwLabels = ['down 3 dB', 'down 6 dB', 'down 10 dB']\n",
    "    bwValues = [bw3dB, bw6dB, bw10dB]\n",
    "\n",
    "    # Create a DataFrame\n",
    "    df = pd.DataFrame({\n",
    "        'Beam Width (degrees)': bwValues,\n",
    "        'Definition': bwLabels\n",
    "    })\n",
    "\n",
    "    # Print the DataFrame\n",
    "    print(df)\n",
    "\n",
    "# Create widgets for plot type and scale\n",
    "plot_type_widget = widgets.Dropdown(\n",
    "    options=['Cartesian', 'Polar'],\n",
    "    value='Polar',\n",
    "    description='Plot Type:'\n",
    ")\n",
    "\n",
    "plot_scale_widget = widgets.Dropdown(\n",
    "    options=['Decibels', 'Linear'],\n",
    "    value='Decibels',\n",
    "    description='Scale:'\n",
    ")\n"
   ]
  },
  {
   "cell_type": "code",
   "execution_count": 4,
   "metadata": {},
   "outputs": [
    {
     "data": {
      "application/vnd.jupyter.widget-view+json": {
       "model_id": "70751e04743a4bc49c5f64209f78fd37",
       "version_major": 2,
       "version_minor": 0
      },
      "text/plain": [
       "interactive(children=(IntSlider(value=1, description='Frequency (kHz)', max=50, min=1), FloatSlider(value=0.5,…"
      ]
     },
     "metadata": {},
     "output_type": "display_data"
    },
    {
     "data": {
      "text/plain": [
       "<function __main__.update_far_field_intensity_cartesian_polar_plot(f, a, plotType, plotScale)>"
      ]
     },
     "execution_count": 4,
     "metadata": {},
     "output_type": "execute_result"
    }
   ],
   "source": [
    "# Use interact to link widgets and plotting function\n",
    "interact(\n",
    "    update_far_field_intensity_cartesian_polar_plot,\n",
    "    f=f_slider,\n",
    "    a=a_slider,\n",
    "    plotType=plot_type_widget,\n",
    "    plotScale=plot_scale_widget,\n",
    ")"
   ]
  },
  {
   "cell_type": "markdown",
   "metadata": {},
   "source": [
    "One of the things you'll notice as you decrease the frequency or decrease the radius, is that the central part of the beam pattern gets wider. This central portion of the beam pattern that includes the maximum at 0 degrees and is enclosed by the first null (points where the level gets very low) is called the **main lobe or main beam**. Most of the energy of the transmitted sound lies in this beam. As a result, most applications try to utilize just this beam. A key parameter for the transducer is width of this main beam and is referred to as the **beam width**. The beam width is defined as the width of the beam when the field drops to a set level below the maximum value. This level is sometimes defined as 3 dB, 6 dB, or 10 dB which on a linear scale correspond to 1/2, 1/4, and 1/10 of the maximum of the maximum value of the main lobe. For example, [SS510](https://www.teledynemarine.com/en-us/products/SiteAssets/Odom/transducers/SMBB200-9.pdf) echosounder spec sheet states that when operating at 200 kHz, the beam width is 9 degrees @ -3 dB. The table shows the beamwidth defined relate to the different levels for the plotted beam pattern.\n",
    "\n",
    "The other beams or lobes are often referred to as **side lobes**. Notice that while the shape of the main lobe and the side lobes change significantly with frequency and transducer radius, the maximum level of the two sidelobes on either side of the main lobe is always at the same level, 17 dB, or 1/50 of the main lobe. This doesn't always hold true for all piston transducers but is a good approximation for the level of the first side lobe and is a useful rule of thumb for the far-field of the transducer. "
   ]
  },
  {
   "cell_type": "code",
   "execution_count": 5,
   "metadata": {},
   "outputs": [],
   "source": [
    "# Constants\n",
    "rho0 = 1\n",
    "c = 1500\n",
    "\n",
    "# Create sliders for 'f' and 'a'\n",
    "f_slider = widgets.IntSlider(min=1, max=50, step=1, value=1, description='Frequency (kHz)')\n",
    "a_slider = widgets.FloatSlider(min=0.1, max=1, step=0.05, value=0.5, description='Aperture Radius (m)')\n",
    "\n",
    "def far_field_intensity_x_y_plane_calculation(f, a, r, cr):\n",
    "    # Calculate angular frequency\n",
    "    omega = 2 * np.pi * f * 1000\n",
    "\n",
    "    # Calculate wavenumber\n",
    "    k = omega / c\n",
    "\n",
    "    # Calculate sound pressure level in linear units\n",
    "    SL_dB = 180\n",
    "    SL_lin = 10**(SL_dB / 20)\n",
    "\n",
    "    # Calculate the particle velocity amplitude\n",
    "    U0 = SL_lin / (rho0 * c * k * a * a / 2)\n",
    "\n",
    "    # Calculate meshgrids\n",
    "    x = np.linspace(-cr, cr, 150)\n",
    "    y = np.linspace(0, r, 100)\n",
    "    X, Y = np.meshgrid(x, y)\n",
    "\n",
    "    # Far field calculation\n",
    "    thetaXY = np.arctan2(X, Y)\n",
    "    rXY = np.sqrt(X**2 + Y**2)\n",
    "    u1 = k * a * np.sin(thetaXY)\n",
    "    u1[u1 == 0] = np.nan  # Avoid division by zero\n",
    "    projIntXY = np.abs((rho0 * c * k * U0 * a * a / (2 * rXY)) *\n",
    "                    (2 * j1(u1) / u1))**2\n",
    "\n",
    "    return x, y, SL_dB, projIntXY\n",
    "\n",
    "def update_far_field_intensity_x_y_plane_plot(f, a, plotScale):\n",
    "    # Calculate far field intensity on x-y plane\n",
    "    x, y, SL_dB, projIntXY = far_field_intensity_x_y_plane_calculation(f, a, r=10, cr=10)\n",
    "\n",
    "    # Close any existing plots\n",
    "    plt.close('all')\n",
    "\n",
    "    # Plotting\n",
    "    plt.figure(1)\n",
    "    if plotScale == 'Decibels':\n",
    "        plt.imshow(10 * np.log10(projIntXY), extent=(x.min(), x.max(), y.min(), y.max()), origin='lower')\n",
    "        plt.colorbar(label='Intensity (dB re 1μPa)')\n",
    "        plt.clim(SL_dB - 90, SL_dB)\n",
    "    else:\n",
    "        plt.imshow(projIntXY / 1e6, extent=(x.min(), x.max(), y.min(), y.max()), origin='lower')\n",
    "        plt.colorbar(label='Intensity (μPa²)')\n",
    "        plt.clim(10**((SL_dB - 90) / 10), SL_dB)\n",
    "        \n",
    "    plt.xlabel('Cross Range (m)')\n",
    "    plt.ylabel('Range (m)')\n",
    "    plt.gca().set_aspect('auto')\n",
    "    plt.show()"
   ]
  },
  {
   "cell_type": "code",
   "execution_count": 6,
   "metadata": {},
   "outputs": [
    {
     "data": {
      "application/vnd.jupyter.widget-view+json": {
       "model_id": "4a43dd914fd04a86b48e2afc27fd4c3e",
       "version_major": 2,
       "version_minor": 0
      },
      "text/plain": [
       "interactive(children=(IntSlider(value=1, description='Frequency (kHz)', max=50, min=1), FloatSlider(value=0.5,…"
      ]
     },
     "metadata": {},
     "output_type": "display_data"
    },
    {
     "data": {
      "text/plain": [
       "<function __main__.update_far_field_intensity_x_y_plane_plot(f, a, plotScale)>"
      ]
     },
     "execution_count": 6,
     "metadata": {},
     "output_type": "execute_result"
    }
   ],
   "source": [
    "# Use interact to link widgets and plotting function\n",
    "interact(\n",
    "    update_far_field_intensity_x_y_plane_plot,\n",
    "    f=f_slider,\n",
    "    a=a_slider,\n",
    "    plotScale=plot_scale_widget,\n",
    ")"
   ]
  },
  {
   "cell_type": "markdown",
   "metadata": {},
   "source": []
  }
 ],
 "metadata": {
  "kernelspec": {
   "display_name": "Python 3",
   "language": "python",
   "name": "python3"
  },
  "language_info": {
   "codemirror_mode": {
    "name": "ipython",
    "version": 3
   },
   "file_extension": ".py",
   "mimetype": "text/x-python",
   "name": "python",
   "nbconvert_exporter": "python",
   "pygments_lexer": "ipython3",
   "version": "3.8.3"
  }
 },
 "nbformat": 4,
 "nbformat_minor": 2
}
