{
 "cells": [
  {
   "cell_type": "code",
   "execution_count": 1,
   "metadata": {},
   "outputs": [],
   "source": [
    "import numpy as np\n",
    "import matplotlib.pyplot as plt\n",
    "from scipy.special import j1  # Bessel function of the first kind\n",
    "from ipywidgets import interact, widgets\n",
    "import pandas as pd"
   ]
  },
  {
   "cell_type": "code",
   "execution_count": 2,
   "metadata": {},
   "outputs": [],
   "source": [
    "# Constants\n",
    "rho0 = 1\n",
    "c = 1500\n",
    "r = 10"
   ]
  },
  {
   "cell_type": "code",
   "execution_count": 3,
   "metadata": {},
   "outputs": [],
   "source": [
    "# Create sliders for frequency and transducer radius\n",
    "f_slider = widgets.IntSlider(\n",
    "    min=1, max=50, step=1, value=1, description='Frequency (kHz)',\n",
    "    style={'description_width': 'initial'}\n",
    ")\n",
    "a_slider = widgets.FloatSlider(\n",
    "    min=0.1, max=1, step=0.05, value=0.5, description='Aperture Radius (m)',\n",
    "    style={'description_width': 'initial'}\n",
    ")"
   ]
  },
  {
   "cell_type": "code",
   "execution_count": 4,
   "metadata": {},
   "outputs": [],
   "source": [
    "# Create widgets for plot type and scale\n",
    "plot_type_widget = widgets.Dropdown(\n",
    "    options=['Cartesian', 'Polar'],\n",
    "    value='Polar',\n",
    "    description='Plot Type:'\n",
    ")\n",
    "\n",
    "plot_scale_widget = widgets.Dropdown(\n",
    "    options=['Decibels', 'Linear'],\n",
    "    value='Decibels',\n",
    "    description='Scale:'\n",
    ")"
   ]
  },
  {
   "cell_type": "code",
   "execution_count": 5,
   "metadata": {},
   "outputs": [],
   "source": [
    "def compute_far_field_intensity(f, a):\n",
    "    omega = 2 * np.pi * f * 1000\n",
    "    k = omega / c\n",
    "    theta = np.arange(-90, 90.1, 0.1)\n",
    "    u = k * a * np.sin(theta * np.pi / 180)\n",
    "\n",
    "    # Projection Intensity calculation\n",
    "    projInt = np.abs((rho0 * c * k * a * a / (2 * r)) * \n",
    "                     (2 * j1(u) / u)) ** 2\n",
    "\n",
    "    # Handle division by zero at theta = 0\n",
    "    ind = np.where(theta == 0)[0]\n",
    "    axisInt = np.abs(rho0 * c * k * a * a / (2 * r)) ** 2\n",
    "    projInt[ind] = axisInt\n",
    "\n",
    "    return projInt, theta, axisInt"
   ]
  },
  {
   "cell_type": "code",
   "execution_count": 20,
   "metadata": {},
   "outputs": [],
   "source": [
    "def update_far_field_intensity_cartesian_polar_plot(f, a, plotType, plotScale):\n",
    "    # Calculate far field intensity\n",
    "    projInt, theta, axisInt = compute_far_field_intensity(f, a)\n",
    "\n",
    "    plt.close('all')  # Close any existing plots\n",
    "\n",
    "    if plotType == 'Cartesian':\n",
    "        plt.figure(figsize=(6, 4))\n",
    "        if plotScale == \"Decibels\":\n",
    "            plt.plot(theta, 10 * np.log10(projInt / axisInt), linewidth=2)\n",
    "            plt.ylim([-40, 0])\n",
    "            plt.xlim([-90, 90])\n",
    "            plt.xlabel('Angle (degrees)', fontsize=14)\n",
    "            plt.ylabel('Beam Level (dB)', fontsize=14)\n",
    "            plt.grid(True)\n",
    "        else:\n",
    "            plt.plot(theta, projInt / axisInt, linewidth=2)\n",
    "            plt.ylim(10 ** (np.array([-40, 0]) / 10))\n",
    "            plt.xlim([-90, 90])\n",
    "            plt.xlabel('Angle (degrees)', fontsize=14)\n",
    "            plt.ylabel('Beam Level', fontsize=14)\n",
    "            plt.grid(True)\n",
    "    \n",
    "    elif plotType == 'Polar':\n",
    "        plt.figure(figsize=(6, 6))\n",
    "        if plotScale == \"Decibels\":\n",
    "            plt.polar(theta * np.pi / 180, 10 * np.log10(projInt / axisInt), linewidth=2)\n",
    "            ax = plt.gca()\n",
    "            ax.set_ylim([-40, 0])\n",
    "            ax.set_theta_zero_location('N')  # 'top'\n",
    "            ax.set_thetalim([np.radians(-90), np.radians(90)])\n",
    "            ax.set_title('Beam Pattern (dB)', fontsize=14)\n",
    "        else:\n",
    "            plt.polar(theta * np.pi / 180, projInt / axisInt, linewidth=2)\n",
    "            ax = plt.gca()\n",
    "            ax.set_ylim(10 ** (np.array([-40, 0]) / 10))\n",
    "            ax.set_theta_zero_location('N')  # 'top'\n",
    "            ax.set_thetalim([np.radians(-90), np.radians(90)])\n",
    "            ax.set_title('Beam Pattern (Linear Scale)', fontsize=14)\n",
    "\n",
    "    # Compute beam widths\n",
    "    ind3dB = np.where(10 * np.log10(projInt / axisInt) >= -3)[0]\n",
    "    ind6dB = np.where(10 * np.log10(projInt / axisInt) >= -6)[0]\n",
    "    ind10dB = np.where(10 * np.log10(projInt / axisInt) >= -10)[0]\n",
    "\n",
    "    bw3dB = np.abs(theta[ind3dB[0]])\n",
    "    bw6dB = np.abs(theta[ind6dB[0]])\n",
    "    bw10dB = np.abs(theta[ind10dB[0]])\n",
    "\n",
    "    # Define labels and values\n",
    "    bwLabels = ['down 3 dB', 'down 6 dB', 'down 10 dB']\n",
    "    bwValues = [bw3dB, bw6dB, bw10dB]\n",
    "\n",
    "    # Create a DataFrame\n",
    "    df = pd.DataFrame({\n",
    "        'Beam Width (degrees)': bwValues,\n",
    "        'Definition': bwLabels\n",
    "    })\n",
    "\n",
    "    # Print the DataFrame\n",
    "    print(df)\n",
    "\n",
    "    # Show fig\n",
    "    plt.show()\n"
   ]
  },
  {
   "cell_type": "code",
   "execution_count": 21,
   "metadata": {},
   "outputs": [],
   "source": [
    "def far_field_intensity_x_y_plane_calculation(f, a, r, cr):\n",
    "    omega = 2 * np.pi * f * 1000\n",
    "    k = omega / c\n",
    "\n",
    "    # Calculations\n",
    "    SL_dB = 180\n",
    "    SL_lin = 10**(SL_dB / 20)\n",
    "    U0 = SL_lin / (rho0 * c * k * a * a / 2)\n",
    "\n",
    "    x = np.linspace(-cr, cr, 150)\n",
    "    y = np.linspace(0, r, 100)\n",
    "    X, Y = np.meshgrid(x, y)\n",
    "\n",
    "    thetaXY = np.arctan2(X, Y)\n",
    "    rXY = np.sqrt(X**2 + Y**2)\n",
    "    u1 = k * a * np.sin(thetaXY)\n",
    "    u1[u1 == 0] = np.nan  # Avoid division by zero\n",
    "\n",
    "    projIntXY = np.abs((rho0 * c * k * U0 * a * a / (2 * rXY)) *\n",
    "                    (2 * j1(u1) / u1))**2\n",
    "\n",
    "    return x, y, SL_dB, projIntXY"
   ]
  },
  {
   "cell_type": "code",
   "execution_count": 22,
   "metadata": {},
   "outputs": [],
   "source": [
    "def update_far_field_intensity_x_y_plane_plot(f, a, plotScale):\n",
    "    # Calculate far field intensity on x-y plane\n",
    "    x, y, SL_dB, projIntXY = far_field_intensity_x_y_plane_calculation(f, a, r=10, cr=10)\n",
    "\n",
    "    # Close any existing plots\n",
    "    plt.close('all')\n",
    "\n",
    "    # Plotting\n",
    "    plt.figure(1)\n",
    "    if plotScale == 'Decibels':\n",
    "        plt.imshow(10 * np.log10(projIntXY), extent=(x.min(), x.max(), y.min(), y.max()), origin='lower')\n",
    "        plt.colorbar(label='Intensity (dB re 1μPa)')\n",
    "        plt.clim(SL_dB - 90, SL_dB)\n",
    "    else:\n",
    "        plt.imshow(projIntXY / 1e6, extent=(x.min(), x.max(), y.min(), y.max()), origin='lower')\n",
    "        plt.colorbar(label='Intensity (μPa²)')\n",
    "        plt.clim(10**((SL_dB - 90) / 10), SL_dB)\n",
    "        \n",
    "    plt.xlabel('Cross Range (m)')\n",
    "    plt.ylabel('Range (m)')\n",
    "    plt.gca().set_aspect('auto')\n",
    "    plt.show()"
   ]
  },
  {
   "cell_type": "code",
   "execution_count": 23,
   "metadata": {},
   "outputs": [
    {
     "data": {
      "application/vnd.jupyter.widget-view+json": {
       "model_id": "6a7965d301234724af3d410fb622f26d",
       "version_major": 2,
       "version_minor": 0
      },
      "text/plain": [
       "interactive(children=(IntSlider(value=18, description='Frequency (kHz)', max=50, min=1, style=SliderStyle(desc…"
      ]
     },
     "metadata": {},
     "output_type": "display_data"
    }
   ],
   "source": [
    "# Explore far field intensity across angles\n",
    "_ = interact(\n",
    "    update_far_field_intensity_cartesian_polar_plot,\n",
    "    f=f_slider,\n",
    "    a=a_slider,\n",
    "    plotType=plot_type_widget,\n",
    "    plotScale=plot_scale_widget,\n",
    ")"
   ]
  },
  {
   "cell_type": "code",
   "execution_count": 24,
   "metadata": {},
   "outputs": [
    {
     "data": {
      "application/vnd.jupyter.widget-view+json": {
       "model_id": "33c10fffb2e94ea381644332c2bf47be",
       "version_major": 2,
       "version_minor": 0
      },
      "text/plain": [
       "interactive(children=(IntSlider(value=18, description='Frequency (kHz)', max=50, min=1, style=SliderStyle(desc…"
      ]
     },
     "metadata": {},
     "output_type": "display_data"
    }
   ],
   "source": [
    "# Explore far field intensity in x-y plane\n",
    "_ = interact(\n",
    "    update_far_field_intensity_x_y_plane_plot,\n",
    "    f=f_slider,\n",
    "    a=a_slider,\n",
    "    plotScale=plot_scale_widget,\n",
    ")"
   ]
  },
  {
   "cell_type": "code",
   "execution_count": null,
   "metadata": {},
   "outputs": [],
   "source": []
  },
  {
   "cell_type": "code",
   "execution_count": null,
   "metadata": {},
   "outputs": [],
   "source": []
  }
 ],
 "metadata": {
  "kernelspec": {
   "display_name": "ipywidget_test_20240912",
   "language": "python",
   "name": "python3"
  },
  "language_info": {
   "codemirror_mode": {
    "name": "ipython",
    "version": 3
   },
   "file_extension": ".py",
   "mimetype": "text/x-python",
   "name": "python",
   "nbconvert_exporter": "python",
   "pygments_lexer": "ipython3",
   "version": "3.11.10"
  }
 },
 "nbformat": 4,
 "nbformat_minor": 2
}
